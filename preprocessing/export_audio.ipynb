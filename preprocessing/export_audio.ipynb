{
 "cells": [
  {
   "cell_type": "code",
   "execution_count": 4,
   "metadata": {},
   "outputs": [],
   "source": [
    "from moviepy.editor import VideoFileClip\n",
    "import os"
   ]
  },
  {
   "cell_type": "code",
   "execution_count": 5,
   "metadata": {},
   "outputs": [
    {
     "name": "stdout",
     "output_type": "stream",
     "text": [
      "MoviePy - Writing audio in ./lecture_video/audio/4_1\\01강큰수(1)_만점왕수학4-1(2024).mp3\n"
     ]
    },
    {
     "name": "stderr",
     "output_type": "stream",
     "text": [
      "                                                                        \r"
     ]
    },
    {
     "name": "stdout",
     "output_type": "stream",
     "text": [
      "MoviePy - Done.\n",
      "01강큰수(1)_만점왕수학4-1(2024).mp4에서 오디오를 추출하여 ./lecture_video/audio/4_1\\01강큰수(1)_만점왕수학4-1(2024).mp3에 저장했습니다.\n",
      "MoviePy - Writing audio in ./lecture_video/audio/4_1\\02강큰수(2)_만점왕수학4-1(2024).mp3\n"
     ]
    },
    {
     "name": "stderr",
     "output_type": "stream",
     "text": [
      "                                                                        \r"
     ]
    },
    {
     "name": "stdout",
     "output_type": "stream",
     "text": [
      "MoviePy - Done.\n",
      "02강큰수(2)_만점왕수학4-1(2024).mp4에서 오디오를 추출하여 ./lecture_video/audio/4_1\\02강큰수(2)_만점왕수학4-1(2024).mp3에 저장했습니다.\n",
      "MoviePy - Writing audio in ./lecture_video/audio/4_1\\03강큰수(3)_만점왕수학4-1(2024).mp3\n"
     ]
    },
    {
     "name": "stderr",
     "output_type": "stream",
     "text": [
      "                                                                        \r"
     ]
    },
    {
     "name": "stdout",
     "output_type": "stream",
     "text": [
      "MoviePy - Done.\n",
      "03강큰수(3)_만점왕수학4-1(2024).mp4에서 오디오를 추출하여 ./lecture_video/audio/4_1\\03강큰수(3)_만점왕수학4-1(2024).mp3에 저장했습니다.\n",
      "MoviePy - Writing audio in ./lecture_video/audio/4_1\\04강큰수(4)_만점왕수학4-1(2024).mp3\n"
     ]
    },
    {
     "name": "stderr",
     "output_type": "stream",
     "text": [
      "                                                                        \r"
     ]
    },
    {
     "name": "stdout",
     "output_type": "stream",
     "text": [
      "MoviePy - Done.\n",
      "04강큰수(4)_만점왕수학4-1(2024).mp4에서 오디오를 추출하여 ./lecture_video/audio/4_1\\04강큰수(4)_만점왕수학4-1(2024).mp3에 저장했습니다.\n",
      "MoviePy - Writing audio in ./lecture_video/audio/4_1\\05강큰수(5)_만점왕수학4-1(2024).mp3\n"
     ]
    },
    {
     "name": "stderr",
     "output_type": "stream",
     "text": [
      "                                                                        \r"
     ]
    },
    {
     "name": "stdout",
     "output_type": "stream",
     "text": [
      "MoviePy - Done.\n",
      "05강큰수(5)_만점왕수학4-1(2024).mp4에서 오디오를 추출하여 ./lecture_video/audio/4_1\\05강큰수(5)_만점왕수학4-1(2024).mp3에 저장했습니다.\n",
      "MoviePy - Writing audio in ./lecture_video/audio/4_1\\06강각도(1)_만점왕수학4-1(2024).mp3\n"
     ]
    },
    {
     "name": "stderr",
     "output_type": "stream",
     "text": [
      "                                                                        \r"
     ]
    },
    {
     "name": "stdout",
     "output_type": "stream",
     "text": [
      "MoviePy - Done.\n",
      "06강각도(1)_만점왕수학4-1(2024).mp4에서 오디오를 추출하여 ./lecture_video/audio/4_1\\06강각도(1)_만점왕수학4-1(2024).mp3에 저장했습니다.\n",
      "MoviePy - Writing audio in ./lecture_video/audio/4_1\\07강각도(2)_만점왕수학4-1(2024).mp3\n"
     ]
    },
    {
     "name": "stderr",
     "output_type": "stream",
     "text": [
      "                                                                        \r"
     ]
    },
    {
     "name": "stdout",
     "output_type": "stream",
     "text": [
      "MoviePy - Done.\n",
      "07강각도(2)_만점왕수학4-1(2024).mp4에서 오디오를 추출하여 ./lecture_video/audio/4_1\\07강각도(2)_만점왕수학4-1(2024).mp3에 저장했습니다.\n",
      "MoviePy - Writing audio in ./lecture_video/audio/4_1\\08강각도(3)_만점왕수학4-1(2024).mp3\n"
     ]
    },
    {
     "name": "stderr",
     "output_type": "stream",
     "text": [
      "                                                                        \r"
     ]
    },
    {
     "name": "stdout",
     "output_type": "stream",
     "text": [
      "MoviePy - Done.\n",
      "08강각도(3)_만점왕수학4-1(2024).mp4에서 오디오를 추출하여 ./lecture_video/audio/4_1\\08강각도(3)_만점왕수학4-1(2024).mp3에 저장했습니다.\n",
      "MoviePy - Writing audio in ./lecture_video/audio/4_1\\09강각도(4)_만점왕수학4-1(2024).mp3\n"
     ]
    },
    {
     "name": "stderr",
     "output_type": "stream",
     "text": [
      "                                                                        \r"
     ]
    },
    {
     "name": "stdout",
     "output_type": "stream",
     "text": [
      "MoviePy - Done.\n",
      "09강각도(4)_만점왕수학4-1(2024).mp4에서 오디오를 추출하여 ./lecture_video/audio/4_1\\09강각도(4)_만점왕수학4-1(2024).mp3에 저장했습니다.\n",
      "MoviePy - Writing audio in ./lecture_video/audio/4_1\\10강각도(5)_만점왕수학4-1(2024).mp3\n"
     ]
    },
    {
     "name": "stderr",
     "output_type": "stream",
     "text": [
      "                                                                        \r"
     ]
    },
    {
     "name": "stdout",
     "output_type": "stream",
     "text": [
      "MoviePy - Done.\n",
      "10강각도(5)_만점왕수학4-1(2024).mp4에서 오디오를 추출하여 ./lecture_video/audio/4_1\\10강각도(5)_만점왕수학4-1(2024).mp3에 저장했습니다.\n",
      "MoviePy - Writing audio in ./lecture_video/audio/4_1\\11강각도(6)_만점왕수학4-1(2024).mp3\n"
     ]
    },
    {
     "name": "stderr",
     "output_type": "stream",
     "text": [
      "                                                                        \r"
     ]
    },
    {
     "name": "stdout",
     "output_type": "stream",
     "text": [
      "MoviePy - Done.\n",
      "11강각도(6)_만점왕수학4-1(2024).mp4에서 오디오를 추출하여 ./lecture_video/audio/4_1\\11강각도(6)_만점왕수학4-1(2024).mp3에 저장했습니다.\n",
      "MoviePy - Writing audio in ./lecture_video/audio/4_1\\12강곱셈과나눗셈(1)_만점왕수학4-1(2024).mp3\n"
     ]
    },
    {
     "name": "stderr",
     "output_type": "stream",
     "text": [
      "                                                                        \r"
     ]
    },
    {
     "name": "stdout",
     "output_type": "stream",
     "text": [
      "MoviePy - Done.\n",
      "12강곱셈과나눗셈(1)_만점왕수학4-1(2024).mp4에서 오디오를 추출하여 ./lecture_video/audio/4_1\\12강곱셈과나눗셈(1)_만점왕수학4-1(2024).mp3에 저장했습니다.\n",
      "MoviePy - Writing audio in ./lecture_video/audio/4_1\\13강곱셈과나눗셈(2)_만점왕수학4-1(2024).mp3\n"
     ]
    },
    {
     "name": "stderr",
     "output_type": "stream",
     "text": [
      "                                                                        \r"
     ]
    },
    {
     "name": "stdout",
     "output_type": "stream",
     "text": [
      "MoviePy - Done.\n",
      "13강곱셈과나눗셈(2)_만점왕수학4-1(2024).mp4에서 오디오를 추출하여 ./lecture_video/audio/4_1\\13강곱셈과나눗셈(2)_만점왕수학4-1(2024).mp3에 저장했습니다.\n",
      "MoviePy - Writing audio in ./lecture_video/audio/4_1\\14강곱셈과나눗셈(3)_만점왕수학4-1(2024).mp3\n"
     ]
    },
    {
     "name": "stderr",
     "output_type": "stream",
     "text": [
      "                                                                        \r"
     ]
    },
    {
     "name": "stdout",
     "output_type": "stream",
     "text": [
      "MoviePy - Done.\n",
      "14강곱셈과나눗셈(3)_만점왕수학4-1(2024).mp4에서 오디오를 추출하여 ./lecture_video/audio/4_1\\14강곱셈과나눗셈(3)_만점왕수학4-1(2024).mp3에 저장했습니다.\n",
      "MoviePy - Writing audio in ./lecture_video/audio/4_1\\15강곱셈과나눗셈(4)_만점왕수학4-1(2024).mp3\n"
     ]
    },
    {
     "name": "stderr",
     "output_type": "stream",
     "text": [
      "                                                                        \r"
     ]
    },
    {
     "name": "stdout",
     "output_type": "stream",
     "text": [
      "MoviePy - Done.\n",
      "15강곱셈과나눗셈(4)_만점왕수학4-1(2024).mp4에서 오디오를 추출하여 ./lecture_video/audio/4_1\\15강곱셈과나눗셈(4)_만점왕수학4-1(2024).mp3에 저장했습니다.\n",
      "MoviePy - Writing audio in ./lecture_video/audio/4_1\\16강곱셈과나눗셈(5)_만점왕수학4-1(2024).mp3\n"
     ]
    },
    {
     "name": "stderr",
     "output_type": "stream",
     "text": [
      "                                                                        \r"
     ]
    },
    {
     "name": "stdout",
     "output_type": "stream",
     "text": [
      "MoviePy - Done.\n",
      "16강곱셈과나눗셈(5)_만점왕수학4-1(2024).mp4에서 오디오를 추출하여 ./lecture_video/audio/4_1\\16강곱셈과나눗셈(5)_만점왕수학4-1(2024).mp3에 저장했습니다.\n",
      "MoviePy - Writing audio in ./lecture_video/audio/4_1\\17강곱셈과나눗셈(6)_만점왕수학4-1(2024).mp3\n"
     ]
    },
    {
     "name": "stderr",
     "output_type": "stream",
     "text": [
      "                                                                        \r"
     ]
    },
    {
     "name": "stdout",
     "output_type": "stream",
     "text": [
      "MoviePy - Done.\n",
      "17강곱셈과나눗셈(6)_만점왕수학4-1(2024).mp4에서 오디오를 추출하여 ./lecture_video/audio/4_1\\17강곱셈과나눗셈(6)_만점왕수학4-1(2024).mp3에 저장했습니다.\n",
      "MoviePy - Writing audio in ./lecture_video/audio/4_1\\18강곱셈과나눗셈(7)_만점왕수학4-1(2024).mp3\n"
     ]
    },
    {
     "name": "stderr",
     "output_type": "stream",
     "text": [
      "                                                                        \r"
     ]
    },
    {
     "name": "stdout",
     "output_type": "stream",
     "text": [
      "MoviePy - Done.\n",
      "18강곱셈과나눗셈(7)_만점왕수학4-1(2024).mp4에서 오디오를 추출하여 ./lecture_video/audio/4_1\\18강곱셈과나눗셈(7)_만점왕수학4-1(2024).mp3에 저장했습니다.\n",
      "MoviePy - Writing audio in ./lecture_video/audio/4_1\\19강곱셈과나눗셈(8)_만점왕수학4-1(2024).mp3\n"
     ]
    },
    {
     "name": "stderr",
     "output_type": "stream",
     "text": [
      "                                                                        \r"
     ]
    },
    {
     "name": "stdout",
     "output_type": "stream",
     "text": [
      "MoviePy - Done.\n",
      "19강곱셈과나눗셈(8)_만점왕수학4-1(2024).mp4에서 오디오를 추출하여 ./lecture_video/audio/4_1\\19강곱셈과나눗셈(8)_만점왕수학4-1(2024).mp3에 저장했습니다.\n",
      "MoviePy - Writing audio in ./lecture_video/audio/4_1\\20강평면도형의이동(1)_만점왕수학4-1(2024).mp3\n"
     ]
    },
    {
     "name": "stderr",
     "output_type": "stream",
     "text": [
      "                                                                        \r"
     ]
    },
    {
     "name": "stdout",
     "output_type": "stream",
     "text": [
      "MoviePy - Done.\n",
      "20강평면도형의이동(1)_만점왕수학4-1(2024).mp4에서 오디오를 추출하여 ./lecture_video/audio/4_1\\20강평면도형의이동(1)_만점왕수학4-1(2024).mp3에 저장했습니다.\n",
      "MoviePy - Writing audio in ./lecture_video/audio/4_1\\21강평면도형의이동(2)_만점왕수학4-1(2024).mp3\n"
     ]
    },
    {
     "name": "stderr",
     "output_type": "stream",
     "text": [
      "                                                                        \r"
     ]
    },
    {
     "name": "stdout",
     "output_type": "stream",
     "text": [
      "MoviePy - Done.\n",
      "21강평면도형의이동(2)_만점왕수학4-1(2024).mp4에서 오디오를 추출하여 ./lecture_video/audio/4_1\\21강평면도형의이동(2)_만점왕수학4-1(2024).mp3에 저장했습니다.\n",
      "MoviePy - Writing audio in ./lecture_video/audio/4_1\\22강평면도형의이동(3)_만점왕수학4-1(2024).mp3\n"
     ]
    },
    {
     "name": "stderr",
     "output_type": "stream",
     "text": [
      "                                                                        \r"
     ]
    },
    {
     "name": "stdout",
     "output_type": "stream",
     "text": [
      "MoviePy - Done.\n",
      "22강평면도형의이동(3)_만점왕수학4-1(2024).mp4에서 오디오를 추출하여 ./lecture_video/audio/4_1\\22강평면도형의이동(3)_만점왕수학4-1(2024).mp3에 저장했습니다.\n",
      "MoviePy - Writing audio in ./lecture_video/audio/4_1\\23강평면도형의이동(4)_만점왕수학4-1(2024).mp3\n"
     ]
    },
    {
     "name": "stderr",
     "output_type": "stream",
     "text": [
      "                                                                        \r"
     ]
    },
    {
     "name": "stdout",
     "output_type": "stream",
     "text": [
      "MoviePy - Done.\n",
      "23강평면도형의이동(4)_만점왕수학4-1(2024).mp4에서 오디오를 추출하여 ./lecture_video/audio/4_1\\23강평면도형의이동(4)_만점왕수학4-1(2024).mp3에 저장했습니다.\n",
      "MoviePy - Writing audio in ./lecture_video/audio/4_1\\24강막대그래프(1)_만점왕수학4-1(2024).mp3\n"
     ]
    },
    {
     "name": "stderr",
     "output_type": "stream",
     "text": [
      "                                                                        \r"
     ]
    },
    {
     "name": "stdout",
     "output_type": "stream",
     "text": [
      "MoviePy - Done.\n",
      "24강막대그래프(1)_만점왕수학4-1(2024).mp4에서 오디오를 추출하여 ./lecture_video/audio/4_1\\24강막대그래프(1)_만점왕수학4-1(2024).mp3에 저장했습니다.\n",
      "MoviePy - Writing audio in ./lecture_video/audio/4_1\\25강막대그래프(2)_만점왕수학4-1(2024).mp3\n"
     ]
    },
    {
     "name": "stderr",
     "output_type": "stream",
     "text": [
      "                                                                        \r"
     ]
    },
    {
     "name": "stdout",
     "output_type": "stream",
     "text": [
      "MoviePy - Done.\n",
      "25강막대그래프(2)_만점왕수학4-1(2024).mp4에서 오디오를 추출하여 ./lecture_video/audio/4_1\\25강막대그래프(2)_만점왕수학4-1(2024).mp3에 저장했습니다.\n",
      "MoviePy - Writing audio in ./lecture_video/audio/4_1\\26강막대그래프(3)_만점왕수학4-1(2024).mp3\n"
     ]
    },
    {
     "name": "stderr",
     "output_type": "stream",
     "text": [
      "                                                                        \r"
     ]
    },
    {
     "name": "stdout",
     "output_type": "stream",
     "text": [
      "MoviePy - Done.\n",
      "26강막대그래프(3)_만점왕수학4-1(2024).mp4에서 오디오를 추출하여 ./lecture_video/audio/4_1\\26강막대그래프(3)_만점왕수학4-1(2024).mp3에 저장했습니다.\n",
      "MoviePy - Writing audio in ./lecture_video/audio/4_1\\27강막대그래프(4)_만점왕수학4-1(2024).mp3\n"
     ]
    },
    {
     "name": "stderr",
     "output_type": "stream",
     "text": [
      "                                                                        \r"
     ]
    },
    {
     "name": "stdout",
     "output_type": "stream",
     "text": [
      "MoviePy - Done.\n",
      "27강막대그래프(4)_만점왕수학4-1(2024).mp4에서 오디오를 추출하여 ./lecture_video/audio/4_1\\27강막대그래프(4)_만점왕수학4-1(2024).mp3에 저장했습니다.\n",
      "MoviePy - Writing audio in ./lecture_video/audio/4_1\\28강규칙찾기(1)_만점왕수학4-1(2024).mp3\n"
     ]
    },
    {
     "name": "stderr",
     "output_type": "stream",
     "text": [
      "                                                                        \r"
     ]
    },
    {
     "name": "stdout",
     "output_type": "stream",
     "text": [
      "MoviePy - Done.\n",
      "28강규칙찾기(1)_만점왕수학4-1(2024).mp4에서 오디오를 추출하여 ./lecture_video/audio/4_1\\28강규칙찾기(1)_만점왕수학4-1(2024).mp3에 저장했습니다.\n",
      "MoviePy - Writing audio in ./lecture_video/audio/4_1\\29강규칙찾기(2)_만점왕수학4-1(2024).mp3\n"
     ]
    },
    {
     "name": "stderr",
     "output_type": "stream",
     "text": [
      "                                                                        \r"
     ]
    },
    {
     "name": "stdout",
     "output_type": "stream",
     "text": [
      "MoviePy - Done.\n",
      "29강규칙찾기(2)_만점왕수학4-1(2024).mp4에서 오디오를 추출하여 ./lecture_video/audio/4_1\\29강규칙찾기(2)_만점왕수학4-1(2024).mp3에 저장했습니다.\n",
      "MoviePy - Writing audio in ./lecture_video/audio/4_1\\30강규칙찾기(3)_만점왕수학4-1(2024).mp3\n"
     ]
    },
    {
     "name": "stderr",
     "output_type": "stream",
     "text": [
      "                                                                        \r"
     ]
    },
    {
     "name": "stdout",
     "output_type": "stream",
     "text": [
      "MoviePy - Done.\n",
      "30강규칙찾기(3)_만점왕수학4-1(2024).mp4에서 오디오를 추출하여 ./lecture_video/audio/4_1\\30강규칙찾기(3)_만점왕수학4-1(2024).mp3에 저장했습니다.\n",
      "MoviePy - Writing audio in ./lecture_video/audio/4_1\\31강규칙찾기(4)_만점왕수학4-1(2024).mp3\n"
     ]
    },
    {
     "name": "stderr",
     "output_type": "stream",
     "text": [
      "                                                                        \r"
     ]
    },
    {
     "name": "stdout",
     "output_type": "stream",
     "text": [
      "MoviePy - Done.\n",
      "31강규칙찾기(4)_만점왕수학4-1(2024).mp4에서 오디오를 추출하여 ./lecture_video/audio/4_1\\31강규칙찾기(4)_만점왕수학4-1(2024).mp3에 저장했습니다.\n",
      "MoviePy - Writing audio in ./lecture_video/audio/4_1\\32강규칙찾기(5)_만점왕수학4-1(2024).mp3\n"
     ]
    },
    {
     "name": "stderr",
     "output_type": "stream",
     "text": [
      "                                                                        \r"
     ]
    },
    {
     "name": "stdout",
     "output_type": "stream",
     "text": [
      "MoviePy - Done.\n",
      "32강규칙찾기(5)_만점왕수학4-1(2024).mp4에서 오디오를 추출하여 ./lecture_video/audio/4_1\\32강규칙찾기(5)_만점왕수학4-1(2024).mp3에 저장했습니다.\n",
      "MoviePy - Writing audio in ./lecture_video/audio/4_1\\OT_만점왕수학4-1(2024).mp3\n"
     ]
    },
    {
     "name": "stderr",
     "output_type": "stream",
     "text": [
      "                                                                      "
     ]
    },
    {
     "name": "stdout",
     "output_type": "stream",
     "text": [
      "MoviePy - Done.\n",
      "OT_만점왕수학4-1(2024).mp4에서 오디오를 추출하여 ./lecture_video/audio/4_1\\OT_만점왕수학4-1(2024).mp3에 저장했습니다.\n"
     ]
    },
    {
     "name": "stderr",
     "output_type": "stream",
     "text": [
      "\r"
     ]
    }
   ],
   "source": [
    "# 동영상 파일들이 있는 폴더 경로 설정\n",
    "video_folder = \"./lecture_video/4_1\"\n",
    "# 오디오 파일들을 저장할 폴더 경로 설정\n",
    "audio_output_folder = \"./lecture_video/audio/4_1\"\n",
    "\n",
    "# 오디오 파일 저장 폴더가 없다면 생성\n",
    "os.makedirs(audio_output_folder, exist_ok=True)\n",
    "\n",
    "# 동영상 폴더 내 모든 파일에 대해 반복\n",
    "for filename in os.listdir(video_folder):\n",
    "    if filename.endswith(\".mp4\"):  # 확장자가 .mp4인 파일만 처리\n",
    "        video_path = os.path.join(video_folder, filename)\n",
    "        audio_output_path = os.path.join(audio_output_folder, f\"{os.path.splitext(filename)[0]}.mp3\")\n",
    "\n",
    "        # 동영상 파일 불러오기\n",
    "        video_clip = VideoFileClip(video_path)\n",
    "\n",
    "        # 오디오 트랙 추출\n",
    "        audio_clip = video_clip.audio\n",
    "\n",
    "        # 오디오 파일로 저장\n",
    "        audio_clip.write_audiofile(audio_output_path)\n",
    "\n",
    "        # 리소스 해제\n",
    "        audio_clip.close()\n",
    "        video_clip.close()\n",
    "\n",
    "        print(f\"{filename}에서 오디오를 추출하여 {audio_output_path}에 저장했습니다.\")"
   ]
  },
  {
   "cell_type": "code",
   "execution_count": 6,
   "metadata": {},
   "outputs": [
    {
     "name": "stdout",
     "output_type": "stream",
     "text": [
      "MoviePy - Writing audio in ./lecture_video/audio/4_2\\01강분수의덧셈과뺄셈(1)_만점왕수학4-2(2024).mp3\n"
     ]
    },
    {
     "name": "stderr",
     "output_type": "stream",
     "text": [
      "                                                                        \r"
     ]
    },
    {
     "name": "stdout",
     "output_type": "stream",
     "text": [
      "MoviePy - Done.\n",
      "01강분수의덧셈과뺄셈(1)_만점왕수학4-2(2024).mp4에서 오디오를 추출하여 ./lecture_video/audio/4_2\\01강분수의덧셈과뺄셈(1)_만점왕수학4-2(2024).mp3에 저장했습니다.\n",
      "MoviePy - Writing audio in ./lecture_video/audio/4_2\\02강분수의덧셈과뺄셈(2)_만점왕수학4-2(2024).mp3\n"
     ]
    },
    {
     "name": "stderr",
     "output_type": "stream",
     "text": [
      "                                                                        \r"
     ]
    },
    {
     "name": "stdout",
     "output_type": "stream",
     "text": [
      "MoviePy - Done.\n",
      "02강분수의덧셈과뺄셈(2)_만점왕수학4-2(2024).mp4에서 오디오를 추출하여 ./lecture_video/audio/4_2\\02강분수의덧셈과뺄셈(2)_만점왕수학4-2(2024).mp3에 저장했습니다.\n",
      "MoviePy - Writing audio in ./lecture_video/audio/4_2\\03강분수의덧셈과뺄셈(3)_만점왕수학4-2(2024).mp3\n"
     ]
    },
    {
     "name": "stderr",
     "output_type": "stream",
     "text": [
      "                                                                        \r"
     ]
    },
    {
     "name": "stdout",
     "output_type": "stream",
     "text": [
      "MoviePy - Done.\n",
      "03강분수의덧셈과뺄셈(3)_만점왕수학4-2(2024).mp4에서 오디오를 추출하여 ./lecture_video/audio/4_2\\03강분수의덧셈과뺄셈(3)_만점왕수학4-2(2024).mp3에 저장했습니다.\n",
      "MoviePy - Writing audio in ./lecture_video/audio/4_2\\04강분수의덧셈과뺄셈(4)_만점왕수학4-2(2024).mp3\n"
     ]
    },
    {
     "name": "stderr",
     "output_type": "stream",
     "text": [
      "                                                                        \r"
     ]
    },
    {
     "name": "stdout",
     "output_type": "stream",
     "text": [
      "MoviePy - Done.\n",
      "04강분수의덧셈과뺄셈(4)_만점왕수학4-2(2024).mp4에서 오디오를 추출하여 ./lecture_video/audio/4_2\\04강분수의덧셈과뺄셈(4)_만점왕수학4-2(2024).mp3에 저장했습니다.\n",
      "MoviePy - Writing audio in ./lecture_video/audio/4_2\\05강분수의덧셈과뺄셈(5)_만점왕수학4-2(2024).mp3\n"
     ]
    },
    {
     "name": "stderr",
     "output_type": "stream",
     "text": [
      "                                                                        \r"
     ]
    },
    {
     "name": "stdout",
     "output_type": "stream",
     "text": [
      "MoviePy - Done.\n",
      "05강분수의덧셈과뺄셈(5)_만점왕수학4-2(2024).mp4에서 오디오를 추출하여 ./lecture_video/audio/4_2\\05강분수의덧셈과뺄셈(5)_만점왕수학4-2(2024).mp3에 저장했습니다.\n",
      "MoviePy - Writing audio in ./lecture_video/audio/4_2\\06강삼각형(1)_만점왕수학4-2(2024).mp3\n"
     ]
    },
    {
     "name": "stderr",
     "output_type": "stream",
     "text": [
      "                                                                        \r"
     ]
    },
    {
     "name": "stdout",
     "output_type": "stream",
     "text": [
      "MoviePy - Done.\n",
      "06강삼각형(1)_만점왕수학4-2(2024).mp4에서 오디오를 추출하여 ./lecture_video/audio/4_2\\06강삼각형(1)_만점왕수학4-2(2024).mp3에 저장했습니다.\n",
      "MoviePy - Writing audio in ./lecture_video/audio/4_2\\07강삼각형(2)_만점왕수학4-2(2024).mp3\n"
     ]
    },
    {
     "name": "stderr",
     "output_type": "stream",
     "text": [
      "                                                                        \r"
     ]
    },
    {
     "name": "stdout",
     "output_type": "stream",
     "text": [
      "MoviePy - Done.\n",
      "07강삼각형(2)_만점왕수학4-2(2024).mp4에서 오디오를 추출하여 ./lecture_video/audio/4_2\\07강삼각형(2)_만점왕수학4-2(2024).mp3에 저장했습니다.\n",
      "MoviePy - Writing audio in ./lecture_video/audio/4_2\\08강삼각형(3)_만점왕수학4-2(2024).mp3\n"
     ]
    },
    {
     "name": "stderr",
     "output_type": "stream",
     "text": [
      "                                                                        \r"
     ]
    },
    {
     "name": "stdout",
     "output_type": "stream",
     "text": [
      "MoviePy - Done.\n",
      "08강삼각형(3)_만점왕수학4-2(2024).mp4에서 오디오를 추출하여 ./lecture_video/audio/4_2\\08강삼각형(3)_만점왕수학4-2(2024).mp3에 저장했습니다.\n",
      "MoviePy - Writing audio in ./lecture_video/audio/4_2\\09강삼각형(4)_만점왕수학4-2(2024).mp3\n"
     ]
    },
    {
     "name": "stderr",
     "output_type": "stream",
     "text": [
      "                                                                        \r"
     ]
    },
    {
     "name": "stdout",
     "output_type": "stream",
     "text": [
      "MoviePy - Done.\n",
      "09강삼각형(4)_만점왕수학4-2(2024).mp4에서 오디오를 추출하여 ./lecture_video/audio/4_2\\09강삼각형(4)_만점왕수학4-2(2024).mp3에 저장했습니다.\n",
      "MoviePy - Writing audio in ./lecture_video/audio/4_2\\10강삼각형(5)_만점왕수학4-2(2024).mp3\n"
     ]
    },
    {
     "name": "stderr",
     "output_type": "stream",
     "text": [
      "                                                                        \r"
     ]
    },
    {
     "name": "stdout",
     "output_type": "stream",
     "text": [
      "MoviePy - Done.\n",
      "10강삼각형(5)_만점왕수학4-2(2024).mp4에서 오디오를 추출하여 ./lecture_video/audio/4_2\\10강삼각형(5)_만점왕수학4-2(2024).mp3에 저장했습니다.\n",
      "MoviePy - Writing audio in ./lecture_video/audio/4_2\\11강소수의덧셈과뺄셈(1)_만점왕수학4-2(2024).mp3\n"
     ]
    },
    {
     "name": "stderr",
     "output_type": "stream",
     "text": [
      "                                                                        \r"
     ]
    },
    {
     "name": "stdout",
     "output_type": "stream",
     "text": [
      "MoviePy - Done.\n",
      "11강소수의덧셈과뺄셈(1)_만점왕수학4-2(2024).mp4에서 오디오를 추출하여 ./lecture_video/audio/4_2\\11강소수의덧셈과뺄셈(1)_만점왕수학4-2(2024).mp3에 저장했습니다.\n",
      "MoviePy - Writing audio in ./lecture_video/audio/4_2\\12강소수의덧셈과뺄셈(2)_만점왕수학4-2(2024).mp3\n"
     ]
    },
    {
     "name": "stderr",
     "output_type": "stream",
     "text": [
      "                                                                        \r"
     ]
    },
    {
     "name": "stdout",
     "output_type": "stream",
     "text": [
      "MoviePy - Done.\n",
      "12강소수의덧셈과뺄셈(2)_만점왕수학4-2(2024).mp4에서 오디오를 추출하여 ./lecture_video/audio/4_2\\12강소수의덧셈과뺄셈(2)_만점왕수학4-2(2024).mp3에 저장했습니다.\n",
      "MoviePy - Writing audio in ./lecture_video/audio/4_2\\13강소수의덧셈과뺄셈(3)_만점왕수학4-2(2024).mp3\n"
     ]
    },
    {
     "name": "stderr",
     "output_type": "stream",
     "text": [
      "                                                                        \r"
     ]
    },
    {
     "name": "stdout",
     "output_type": "stream",
     "text": [
      "MoviePy - Done.\n",
      "13강소수의덧셈과뺄셈(3)_만점왕수학4-2(2024).mp4에서 오디오를 추출하여 ./lecture_video/audio/4_2\\13강소수의덧셈과뺄셈(3)_만점왕수학4-2(2024).mp3에 저장했습니다.\n",
      "MoviePy - Writing audio in ./lecture_video/audio/4_2\\14강소수의덧셈과뺄셈(4)_만점왕수학4-2(2024).mp3\n"
     ]
    },
    {
     "name": "stderr",
     "output_type": "stream",
     "text": [
      "                                                                        \r"
     ]
    },
    {
     "name": "stdout",
     "output_type": "stream",
     "text": [
      "MoviePy - Done.\n",
      "14강소수의덧셈과뺄셈(4)_만점왕수학4-2(2024).mp4에서 오디오를 추출하여 ./lecture_video/audio/4_2\\14강소수의덧셈과뺄셈(4)_만점왕수학4-2(2024).mp3에 저장했습니다.\n",
      "MoviePy - Writing audio in ./lecture_video/audio/4_2\\15강소수의덧셈과뺄셈(5)_만점왕수학4-2(2024).mp3\n"
     ]
    },
    {
     "name": "stderr",
     "output_type": "stream",
     "text": [
      "                                                                        \r"
     ]
    },
    {
     "name": "stdout",
     "output_type": "stream",
     "text": [
      "MoviePy - Done.\n",
      "15강소수의덧셈과뺄셈(5)_만점왕수학4-2(2024).mp4에서 오디오를 추출하여 ./lecture_video/audio/4_2\\15강소수의덧셈과뺄셈(5)_만점왕수학4-2(2024).mp3에 저장했습니다.\n",
      "MoviePy - Writing audio in ./lecture_video/audio/4_2\\16강사각형(1)_만점왕수학4-2(2024).mp3\n"
     ]
    },
    {
     "name": "stderr",
     "output_type": "stream",
     "text": [
      "                                                                        \r"
     ]
    },
    {
     "name": "stdout",
     "output_type": "stream",
     "text": [
      "MoviePy - Done.\n",
      "16강사각형(1)_만점왕수학4-2(2024).mp4에서 오디오를 추출하여 ./lecture_video/audio/4_2\\16강사각형(1)_만점왕수학4-2(2024).mp3에 저장했습니다.\n",
      "MoviePy - Writing audio in ./lecture_video/audio/4_2\\17강사각형(2)_만점왕수학4-2(2024).mp3\n"
     ]
    },
    {
     "name": "stderr",
     "output_type": "stream",
     "text": [
      "                                                                        \r"
     ]
    },
    {
     "name": "stdout",
     "output_type": "stream",
     "text": [
      "MoviePy - Done.\n",
      "17강사각형(2)_만점왕수학4-2(2024).mp4에서 오디오를 추출하여 ./lecture_video/audio/4_2\\17강사각형(2)_만점왕수학4-2(2024).mp3에 저장했습니다.\n",
      "MoviePy - Writing audio in ./lecture_video/audio/4_2\\18강사각형(3)_만점왕수학4-2(2024).mp3\n"
     ]
    },
    {
     "name": "stderr",
     "output_type": "stream",
     "text": [
      "                                                                        \r"
     ]
    },
    {
     "name": "stdout",
     "output_type": "stream",
     "text": [
      "MoviePy - Done.\n",
      "18강사각형(3)_만점왕수학4-2(2024).mp4에서 오디오를 추출하여 ./lecture_video/audio/4_2\\18강사각형(3)_만점왕수학4-2(2024).mp3에 저장했습니다.\n",
      "MoviePy - Writing audio in ./lecture_video/audio/4_2\\19강사각형(4)_만점왕수학4-2(2024).mp3\n"
     ]
    },
    {
     "name": "stderr",
     "output_type": "stream",
     "text": [
      "                                                                        \r"
     ]
    },
    {
     "name": "stdout",
     "output_type": "stream",
     "text": [
      "MoviePy - Done.\n",
      "19강사각형(4)_만점왕수학4-2(2024).mp4에서 오디오를 추출하여 ./lecture_video/audio/4_2\\19강사각형(4)_만점왕수학4-2(2024).mp3에 저장했습니다.\n",
      "MoviePy - Writing audio in ./lecture_video/audio/4_2\\20강사각형(5)_만점왕수학4-2(2024).mp3\n"
     ]
    },
    {
     "name": "stderr",
     "output_type": "stream",
     "text": [
      "                                                                        \r"
     ]
    },
    {
     "name": "stdout",
     "output_type": "stream",
     "text": [
      "MoviePy - Done.\n",
      "20강사각형(5)_만점왕수학4-2(2024).mp4에서 오디오를 추출하여 ./lecture_video/audio/4_2\\20강사각형(5)_만점왕수학4-2(2024).mp3에 저장했습니다.\n",
      "MoviePy - Writing audio in ./lecture_video/audio/4_2\\21강사각형(6)_만점왕수학4-2(2024).mp3\n"
     ]
    },
    {
     "name": "stderr",
     "output_type": "stream",
     "text": [
      "                                                                        \r"
     ]
    },
    {
     "name": "stdout",
     "output_type": "stream",
     "text": [
      "MoviePy - Done.\n",
      "21강사각형(6)_만점왕수학4-2(2024).mp4에서 오디오를 추출하여 ./lecture_video/audio/4_2\\21강사각형(6)_만점왕수학4-2(2024).mp3에 저장했습니다.\n",
      "MoviePy - Writing audio in ./lecture_video/audio/4_2\\22강사각형(7)_만점왕수학4-2(2024).mp3\n"
     ]
    },
    {
     "name": "stderr",
     "output_type": "stream",
     "text": [
      "                                                                        \r"
     ]
    },
    {
     "name": "stdout",
     "output_type": "stream",
     "text": [
      "MoviePy - Done.\n",
      "22강사각형(7)_만점왕수학4-2(2024).mp4에서 오디오를 추출하여 ./lecture_video/audio/4_2\\22강사각형(7)_만점왕수학4-2(2024).mp3에 저장했습니다.\n",
      "MoviePy - Writing audio in ./lecture_video/audio/4_2\\23강사각형(8)_만점왕수학4-2(2024).mp3\n"
     ]
    },
    {
     "name": "stderr",
     "output_type": "stream",
     "text": [
      "                                                                        \r"
     ]
    },
    {
     "name": "stdout",
     "output_type": "stream",
     "text": [
      "MoviePy - Done.\n",
      "23강사각형(8)_만점왕수학4-2(2024).mp4에서 오디오를 추출하여 ./lecture_video/audio/4_2\\23강사각형(8)_만점왕수학4-2(2024).mp3에 저장했습니다.\n",
      "MoviePy - Writing audio in ./lecture_video/audio/4_2\\24강꺾은선그래프(1)_만점왕수학4-2(2024).mp3\n"
     ]
    },
    {
     "name": "stderr",
     "output_type": "stream",
     "text": [
      "                                                                        \r"
     ]
    },
    {
     "name": "stdout",
     "output_type": "stream",
     "text": [
      "MoviePy - Done.\n",
      "24강꺾은선그래프(1)_만점왕수학4-2(2024).mp4에서 오디오를 추출하여 ./lecture_video/audio/4_2\\24강꺾은선그래프(1)_만점왕수학4-2(2024).mp3에 저장했습니다.\n",
      "MoviePy - Writing audio in ./lecture_video/audio/4_2\\25강꺾은선그래프(2)_만점왕수학4-2(2024).mp3\n"
     ]
    },
    {
     "name": "stderr",
     "output_type": "stream",
     "text": [
      "                                                                        \r"
     ]
    },
    {
     "name": "stdout",
     "output_type": "stream",
     "text": [
      "MoviePy - Done.\n",
      "25강꺾은선그래프(2)_만점왕수학4-2(2024).mp4에서 오디오를 추출하여 ./lecture_video/audio/4_2\\25강꺾은선그래프(2)_만점왕수학4-2(2024).mp3에 저장했습니다.\n",
      "MoviePy - Writing audio in ./lecture_video/audio/4_2\\26강꺾은선그래프(3)_만점왕수학4-2(2024).mp3\n"
     ]
    },
    {
     "name": "stderr",
     "output_type": "stream",
     "text": [
      "                                                                        \r"
     ]
    },
    {
     "name": "stdout",
     "output_type": "stream",
     "text": [
      "MoviePy - Done.\n",
      "26강꺾은선그래프(3)_만점왕수학4-2(2024).mp4에서 오디오를 추출하여 ./lecture_video/audio/4_2\\26강꺾은선그래프(3)_만점왕수학4-2(2024).mp3에 저장했습니다.\n",
      "MoviePy - Writing audio in ./lecture_video/audio/4_2\\27강다각형(1)_만점왕수학4-2(2024).mp3\n"
     ]
    },
    {
     "name": "stderr",
     "output_type": "stream",
     "text": [
      "                                                                        \r"
     ]
    },
    {
     "name": "stdout",
     "output_type": "stream",
     "text": [
      "MoviePy - Done.\n",
      "27강다각형(1)_만점왕수학4-2(2024).mp4에서 오디오를 추출하여 ./lecture_video/audio/4_2\\27강다각형(1)_만점왕수학4-2(2024).mp3에 저장했습니다.\n",
      "MoviePy - Writing audio in ./lecture_video/audio/4_2\\28강다각형(2)_만점왕수학4-2(2024).mp3\n"
     ]
    },
    {
     "name": "stderr",
     "output_type": "stream",
     "text": [
      "                                                                        \r"
     ]
    },
    {
     "name": "stdout",
     "output_type": "stream",
     "text": [
      "MoviePy - Done.\n",
      "28강다각형(2)_만점왕수학4-2(2024).mp4에서 오디오를 추출하여 ./lecture_video/audio/4_2\\28강다각형(2)_만점왕수학4-2(2024).mp3에 저장했습니다.\n",
      "MoviePy - Writing audio in ./lecture_video/audio/4_2\\29강다각형(3)_만점왕수학4-2(2024).mp3\n"
     ]
    },
    {
     "name": "stderr",
     "output_type": "stream",
     "text": [
      "                                                                        \r"
     ]
    },
    {
     "name": "stdout",
     "output_type": "stream",
     "text": [
      "MoviePy - Done.\n",
      "29강다각형(3)_만점왕수학4-2(2024).mp4에서 오디오를 추출하여 ./lecture_video/audio/4_2\\29강다각형(3)_만점왕수학4-2(2024).mp3에 저장했습니다.\n",
      "MoviePy - Writing audio in ./lecture_video/audio/4_2\\30강다각형(4)_만점왕수학4-2(2024).mp3\n"
     ]
    },
    {
     "name": "stderr",
     "output_type": "stream",
     "text": [
      "                                                                        "
     ]
    },
    {
     "name": "stdout",
     "output_type": "stream",
     "text": [
      "MoviePy - Done.\n",
      "30강다각형(4)_만점왕수학4-2(2024).mp4에서 오디오를 추출하여 ./lecture_video/audio/4_2\\30강다각형(4)_만점왕수학4-2(2024).mp3에 저장했습니다.\n"
     ]
    },
    {
     "name": "stderr",
     "output_type": "stream",
     "text": [
      "\r"
     ]
    }
   ],
   "source": [
    "# 동영상 파일들이 있는 폴더 경로 설정\n",
    "video_folder = \"./lecture_video/4_2\"\n",
    "# 오디오 파일들을 저장할 폴더 경로 설정\n",
    "audio_output_folder = \"./lecture_video/audio/4_2\"\n",
    "\n",
    "# 오디오 파일 저장 폴더가 없다면 생성\n",
    "os.makedirs(audio_output_folder, exist_ok=True)\n",
    "\n",
    "# 동영상 폴더 내 모든 파일에 대해 반복\n",
    "for filename in os.listdir(video_folder):\n",
    "    if filename.endswith(\".mp4\"):  # 확장자가 .mp4인 파일만 처리\n",
    "        video_path = os.path.join(video_folder, filename)\n",
    "        audio_output_path = os.path.join(audio_output_folder, f\"{os.path.splitext(filename)[0]}.mp3\")\n",
    "\n",
    "        # 동영상 파일 불러오기\n",
    "        video_clip = VideoFileClip(video_path)\n",
    "\n",
    "        # 오디오 트랙 추출\n",
    "        audio_clip = video_clip.audio\n",
    "\n",
    "        # 오디오 파일로 저장\n",
    "        audio_clip.write_audiofile(audio_output_path)\n",
    "\n",
    "        # 리소스 해제\n",
    "        audio_clip.close()\n",
    "        video_clip.close()\n",
    "\n",
    "        print(f\"{filename}에서 오디오를 추출하여 {audio_output_path}에 저장했습니다.\")"
   ]
  }
 ],
 "metadata": {
  "kernelspec": {
   "display_name": "Python 3",
   "language": "python",
   "name": "python3"
  },
  "language_info": {
   "codemirror_mode": {
    "name": "ipython",
    "version": 3
   },
   "file_extension": ".py",
   "mimetype": "text/x-python",
   "name": "python",
   "nbconvert_exporter": "python",
   "pygments_lexer": "ipython3",
   "version": "3.9.19"
  }
 },
 "nbformat": 4,
 "nbformat_minor": 2
}
