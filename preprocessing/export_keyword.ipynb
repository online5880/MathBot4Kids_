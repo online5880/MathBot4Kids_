{
 "cells": [
  {
   "cell_type": "code",
   "execution_count": 2,
   "metadata": {},
   "outputs": [],
   "source": [
    "import pandas as pd\n",
    "\n",
    "df = pd.read_csv('../data/final_data.csv')"
   ]
  },
  {
   "cell_type": "code",
   "execution_count": 3,
   "metadata": {},
   "outputs": [],
   "source": [
    "df['키워드'].to_csv('keyword.csv',index=False)"
   ]
  },
  {
   "cell_type": "code",
   "execution_count": 5,
   "metadata": {},
   "outputs": [],
   "source": [
    "def extract_compound_nouns_from_csv(df):\n",
    "    # Extract compound nouns from the '키워드' column\n",
    "    compound_nouns = set()\n",
    "    for index, row in df.iterrows():\n",
    "        keywords = row['키워드'].split(',')  # Split by comma\n",
    "        for keyword in keywords:\n",
    "            compound_nouns.add(keyword.strip())  # Strip spaces and add to set\n",
    "    return compound_nouns"
   ]
  },
  {
   "cell_type": "code",
   "execution_count": 6,
   "metadata": {},
   "outputs": [
    {
     "data": {
      "text/plain": [
       "{'1000만',\n",
       " '100만',\n",
       " '10만',\n",
       " '각도',\n",
       " '각도의 차',\n",
       " '각도의 합',\n",
       " '각의 크기',\n",
       " '각의수',\n",
       " '각의크기',\n",
       " '계단 모양',\n",
       " '곱셈',\n",
       " '규칙 찾기',\n",
       " '기찻길',\n",
       " '꺾은선그래프',\n",
       " '꼭지점의수',\n",
       " '나눗셈',\n",
       " '나눗셈의 의미',\n",
       " '나머지가 있는 두자릿수 몫',\n",
       " '눈금',\n",
       " '다각형',\n",
       " '달력',\n",
       " '대각선',\n",
       " '대분수',\n",
       " '덧셈',\n",
       " '돌리기',\n",
       " '두자릿수 몫',\n",
       " '둔각',\n",
       " '뒤집기',\n",
       " '마름모',\n",
       " '막대그래프',\n",
       " '만',\n",
       " '모양 만들기',\n",
       " '모양 조각',\n",
       " '모양 채우기',\n",
       " '모양만들기',\n",
       " '모양채우기',\n",
       " '무늬 만들기',\n",
       " '문제',\n",
       " '물 절약',\n",
       " '바둑돌',\n",
       " '반시계방향',\n",
       " '방향',\n",
       " '변',\n",
       " '변의 길이',\n",
       " '변의길이',\n",
       " '변의수',\n",
       " '변화',\n",
       " '분모',\n",
       " '분수',\n",
       " '분자',\n",
       " '비교',\n",
       " '빼기',\n",
       " '뺄셈',\n",
       " '사각형',\n",
       " '사각형의 각',\n",
       " '사다리꼴',\n",
       " '삼각형',\n",
       " '삼각형의 각',\n",
       " '성질',\n",
       " '세로 형식',\n",
       " '세자릿수와 두자릿수의 곱',\n",
       " '세자릿수와 두자릿수의 나눗셈',\n",
       " '세자릿수의 곱',\n",
       " '소수',\n",
       " '소수점',\n",
       " '수 비교',\n",
       " '수선',\n",
       " '수직',\n",
       " '수직선',\n",
       " '숫자 배열',\n",
       " '시계방향',\n",
       " '실생활 문제',\n",
       " '억',\n",
       " '여러 가지 사각형',\n",
       " '여러 가지 사각형의 대각선',\n",
       " '연결',\n",
       " '연속된 숫자',\n",
       " '연속적변화',\n",
       " '예각',\n",
       " '옮기기',\n",
       " '운동 횟수',\n",
       " '이등변',\n",
       " '이름',\n",
       " '자료 모으기',\n",
       " '자리값',\n",
       " '자연수',\n",
       " '정다각형',\n",
       " '정사각형',\n",
       " '정삼각형',\n",
       " '정육각형',\n",
       " '조',\n",
       " '직각',\n",
       " '크기 비교',\n",
       " '큰 수',\n",
       " '평면도형',\n",
       " '평행',\n",
       " '평행사변형',\n",
       " '평행선',\n",
       " '평행선 사이의 거리',\n",
       " '표',\n",
       " '한 변의 길이',\n",
       " '한눈에 보기',\n",
       " '회전'}"
      ]
     },
     "execution_count": 6,
     "metadata": {},
     "output_type": "execute_result"
    }
   ],
   "source": [
    "extract_compound_nouns_from_csv(df)"
   ]
  }
 ],
 "metadata": {
  "kernelspec": {
   "display_name": "base",
   "language": "python",
   "name": "python3"
  },
  "language_info": {
   "codemirror_mode": {
    "name": "ipython",
    "version": 3
   },
   "file_extension": ".py",
   "mimetype": "text/x-python",
   "name": "python",
   "nbconvert_exporter": "python",
   "pygments_lexer": "ipython3",
   "version": "3.12.2"
  }
 },
 "nbformat": 4,
 "nbformat_minor": 2
}
